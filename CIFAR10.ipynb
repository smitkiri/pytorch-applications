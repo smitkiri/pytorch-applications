{
 "cells": [
  {
   "cell_type": "markdown",
   "metadata": {},
   "source": [
    "## CIFAR10 Dataset\n",
    "This notebook uses convolutional neural networks to classify images in CIFAR10 dataset. The network is built and trained using PyTorch.\n",
    "\n",
    "**About the data:**\n",
    "This dataset contains 60,000 images belonging to 10 classes, with 50,000 training examples and 10,000 test examples"
   ]
  },
  {
   "cell_type": "code",
   "execution_count": 31,
   "metadata": {},
   "outputs": [],
   "source": [
    "import torch\n",
    "import torch.nn as nn\n",
    "import torch.nn.functional as F\n",
    "import torch.optim as optim\n",
    "\n",
    "import torchvision\n",
    "import torchvision.transforms as transforms\n",
    "\n",
    "import sys\n",
    "\n",
    "import matplotlib.pyplot as plt\n",
    "%matplotlib inline"
   ]
  },
  {
   "cell_type": "markdown",
   "metadata": {},
   "source": [
    "Our first setp would be to get the training and testing dataset and apply transformations on them.\n",
    "\n",
    "We will apply two transformations on the data: Convert images to tensors using ```transforms.ToTensor()``` and Normalize the data with mean and standard deviation of 0.5 on all dimensions using ```transforms.Normalize()```. These two transformations are combined using ```transforms.Compose()```.\n",
    "\n",
    "Then to get the dataset, we will use the ```torchvision``` library and get the training and test data.\n",
    "\n",
    "These datasets are converted to iterable format by using ```torch.utils.data.DataLoader``` which will divide the dataset into batches."
   ]
  },
  {
   "cell_type": "code",
   "execution_count": 21,
   "metadata": {},
   "outputs": [],
   "source": [
    "# Defining training parameters\n",
    "LEARNING_RATE = 0.01\n",
    "EPOCHS = 5\n",
    "BATCH_SIZE = 32\n",
    "NUM_CLASSES = 10"
   ]
  },
  {
   "cell_type": "code",
   "execution_count": 19,
   "metadata": {},
   "outputs": [],
   "source": [
    "# Transformations to be applied to the data\n",
    "transform = transforms.Compose([transforms.ToTensor(), \n",
    "                               transforms.Normalize(mean = [0.5, 0.5, 0.5], std = [0.5, 0.5, 0.5])])\n",
    "\n",
    "# Getting the training and test data\n",
    "train_data = torchvision.datasets.CIFAR10(root = './data', train = True, transform = transform)\n",
    "test_data = torchvision.datasets.CIFAR10(root = './data', train = False, transform = transform)\n",
    "\n",
    "# Creating iterable data loaders for train and test data\n",
    "train_loader = torch.utils.data.DataLoader(dataset = train_data, batch_size = BATCH_SIZE, shuffle = True)\n",
    "test_loader = torch.utils.data.DataLoader(dataset = test_data, batch_size = BATCH_SIZE)\n",
    "\n",
    "# Class names\n",
    "classes = ['plane', 'car', 'bird', 'cat', 'deer', 'dog', 'frog', 'horse', 'ship', 'truck']"
   ]
  },
  {
   "cell_type": "markdown",
   "metadata": {},
   "source": [
    "The next step is to create a neural network architecture which will be used to train the model.  We create a class ```Net``` which has the network architecture defined. \n",
    "\n",
    "Our network architecture is defined as follows:\n",
    "\n",
    "Input -> Conv2d -> Relu -> MaxPool2d -> Conv2d -> Relu -> MaxPool2d -> Flatten -> Dropout -> Hidden Layer -> Output Layer\n",
    "\n",
    "This architecture takes a 32x32 colored image as input. After a series of convolutional and max pooling layers, the image is flattened and passed to fully connected layers. The input size of fully connected layer is defined by calculating the output shape of each layer using the formula\n",
    "\n",
    "$$W_{out} = \\frac{W_{in} - F + 2P}{S} + 1$$\n",
    "\n",
    "Where F is the kernel size, P is padding and S is stride. For max pool, the default value of stride is kernel size and for conv2d the default is 1."
   ]
  },
  {
   "cell_type": "code",
   "execution_count": 70,
   "metadata": {},
   "outputs": [],
   "source": [
    "# Creating a neural network architecture\n",
    "class Net(nn.Module):\n",
    "    '''\n",
    "    Input Image size = 32x32 colored\n",
    "    Number of output labels = 10\n",
    "    '''\n",
    "    def __init__(self):\n",
    "        super(Net, self).__init__()\n",
    "        \n",
    "        # conv1 input = (3, 32, 32), output = (8, 30, 30)\n",
    "        self.conv1 = nn.Conv2d(in_channels = 3, out_channels = 8, kernel_size = (3, 3), stride = 1, padding = 0) \n",
    "        \n",
    "        # conv2 input = (8, 30, 30), output = (16, 28, 28)\n",
    "        self.conv2 = nn.Conv2d(in_channels = 8, out_channels = 16, kernel_size = (3, 3), stride = 1, padding = 0)\n",
    "        \n",
    "        # pool1 input = (16, 28, 28), output = (16, 14, 14)\n",
    "        self.pool1 = nn.MaxPool2d(kernel_size = (2, 2))\n",
    "        \n",
    "        # conv1 input = (16, 14, 14), output = (32, 13, 13)\n",
    "        self.conv3 = nn.Conv2d(in_channels = 16, out_channels = 32, kernel_size = (2, 2), stride = 1, padding = 0) \n",
    "        \n",
    "        # conv2 input = (32, 13, 13), output = (64, 12, 12)\n",
    "        self.conv4 = nn.Conv2d(in_channels = 32, out_channels = 64, kernel_size = (2, 2), stride = 1, padding = 0)\n",
    "        \n",
    "        # pool2 input = (64, 12, 12), output = (64, 6, 6)\n",
    "        self.pool2 = nn.MaxPool2d(kernel_size = (2, 2))\n",
    "        \n",
    "        self.dropout = nn.Dropout(p = 0.5)\n",
    "        \n",
    "        # fc1 input_features = 32 * 4 * 4, output_features = 256\n",
    "        self.fc1 = nn.Linear(in_features = 64 * 6 * 6, out_features = 256)\n",
    "        \n",
    "        # fc2 input_features = 256, output_features = 128\n",
    "        self.fc2 = nn.Linear(in_features = 256, out_features = 128)\n",
    "        \n",
    "        # fc3 input_features = 256, output_features = 10\n",
    "        self.fc3 = nn.Linear(in_features = 128, out_features = NUM_CLASSES)\n",
    "        \n",
    "    def forward(self, x):\n",
    "        x = F.relu(self.conv1(x))\n",
    "        x = F.relu(self.conv2(x))\n",
    "        x = self.pool1(x)\n",
    "        \n",
    "        x = F.relu(self.conv3(x))\n",
    "        x = F.relu(self.conv4(x))\n",
    "        x = self.pool2(x)\n",
    "        \n",
    "        x = x.view(-1, self.num_flat_features(x))\n",
    "        \n",
    "        x = self.dropout(x)\n",
    "        \n",
    "        x = F.relu(self.fc1(x))\n",
    "        x = F.relu(self.fc2(x))\n",
    "        x = self.fc3(x)\n",
    "        return x\n",
    "    \n",
    "    def num_flat_features(self, x):\n",
    "        size = x.size()[1:]\n",
    "        n_features = 1\n",
    "        for s in size:\n",
    "            n_features = n_features * s\n",
    "        \n",
    "        return n_features"
   ]
  },
  {
   "cell_type": "markdown",
   "metadata": {},
   "source": [
    "Next, we will define the loss function and optimizer for this model. For this problem, we choose ```nn.CrossEntropyLoss``` as our loss function. ```nn.CrossEntropyLoss``` combines ```nn.LogSoftmax()``` and ```nn.NLLLoss()``` which is why we do not have the softmax function defined in our model architecture class ```Net```."
   ]
  },
  {
   "cell_type": "code",
   "execution_count": 71,
   "metadata": {},
   "outputs": [],
   "source": [
    "# Defining loss and optimizer\n",
    "model = Net()\n",
    "\n",
    "loss_fn = nn.CrossEntropyLoss()\n",
    "optimizer = torch.optim.Adam(model.parameters(), lr = LEARNING_RATE)"
   ]
  },
  {
   "cell_type": "code",
   "execution_count": 72,
   "metadata": {},
   "outputs": [],
   "source": [
    "def drawProgressBar(current, total, string = '', barLen = 20):\n",
    "    '''\n",
    "    Draws a progress bar, something like [====>    ] 20%\n",
    "    \n",
    "    Parameters\n",
    "    ------------\n",
    "    precent: float \n",
    "             percentage completed, between 0 and 1\n",
    "             \n",
    "    string: str\n",
    "            Additional details to write along with progress\n",
    "    \n",
    "    barLen: int\n",
    "            Length of progress bar\n",
    "    '''\n",
    "    percent = current/total\n",
    "    arrow = \">\"\n",
    "    if percent == 1:\n",
    "        arrow = \"\"\n",
    "    # Carriage return, returns to the begining of line to owerwrite\n",
    "    sys.stdout.write(\"\\r\")\n",
    "    sys.stdout.write(\"Progress: [{:<{}}] {}/{}\".format(\"=\" * int(barLen * percent) + arrow, \n",
    "                                                         barLen, current, total) + string)\n",
    "    sys.stdout.flush()"
   ]
  },
  {
   "cell_type": "markdown",
   "metadata": {},
   "source": [
    "Now that we have everything ready, we proceed to train the model. \n",
    "\n",
    "There are two nested loops: one that loops over the number of epochs and another that loops over batches of data.\n",
    "\n",
    "Steps in the inner loop:\n",
    "- Enumrating over train_loader which is a sequence of batches, the batch are of the form (input, labels), so they are seperated.\n",
    "- Then we run the forward pass, first get the predictions from inputs and calculate the loss using our loss function.\n",
    "- Then we do back propogation. First, the gradients of optimizer are set to zero, then the gradients are calculated from the loss and we perform a step in the optimizer that updates the parameters.\n",
    "- Then the accuracy is measured to get the performance of our model."
   ]
  },
  {
   "cell_type": "code",
   "execution_count": 73,
   "metadata": {},
   "outputs": [
    {
     "name": "stdout",
     "output_type": "stream",
     "text": [
      "Epoch 1:\n",
      "Progress: [====================] 1563/1563\t loss: 2.2980 \t acc: 0.0625\n",
      "\n",
      "\n",
      "Epoch 2:\n",
      "Progress: [====================] 1563/1563\t loss: 2.3041 \t acc: 0.0000\n",
      "\n",
      "\n",
      "Epoch 3:\n",
      "Progress: [====================] 1563/1563\t loss: 2.3210 \t acc: 0.0625\n",
      "\n",
      "\n",
      "Epoch 4:\n",
      "Progress: [====================] 1563/1563\t loss: 2.2863 \t acc: 0.1250\n",
      "\n",
      "\n",
      "Epoch 5:\n",
      "Progress: [====================] 1563/1563\t loss: 2.2866 \t acc: 0.0625\n",
      "\n",
      "\n"
     ]
    }
   ],
   "source": [
    "# Training the model\n",
    "num_train_batches = len(train_loader)\n",
    "loss_hist = []\n",
    "acc_hist = []\n",
    "\n",
    "for epoch in range(EPOCHS):\n",
    "    print(\"Epoch \" + str(epoch + 1) + ':')\n",
    "    \n",
    "    for i, batch in enumerate(train_loader):\n",
    "        # batch is a tuple of input data and labels\n",
    "        inputs, labels = batch\n",
    "        \n",
    "        # Running forward pass\n",
    "        outputs = model(inputs)\n",
    "        loss = loss_fn(outputs, labels)\n",
    "        loss_hist.append(loss.item())\n",
    "        \n",
    "        # Backprop\n",
    "        optimizer.zero_grad()\n",
    "        loss.backward()\n",
    "        optimizer.step()\n",
    "        \n",
    "        # Measuring Accuracy\n",
    "        total = labels.size(0)\n",
    "        _, predicted = torch.max(outputs, dim = 1)\n",
    "        correct = (predicted == labels).sum().item()\n",
    "        accuracy = correct/total\n",
    "        acc_hist.append(accuracy)\n",
    "        \n",
    "        # Printing progress\n",
    "        if ((i + 1) % 10 == 0) or (i == num_train_batches - 1):\n",
    "            drawProgressBar((i+1), num_train_batches, \n",
    "                            '\\t loss: {:.4f} \\t acc: {:.4f}'.format(round(loss.item(), 4), round(accuracy, 4)))\n",
    "    \n",
    "    print('\\n\\n')"
   ]
  },
  {
   "cell_type": "code",
   "execution_count": 74,
   "metadata": {},
   "outputs": [
    {
     "data": {
      "image/png": "[encoded data removed]",
      "text/plain": [
       "<Figure size 1152x432 with 2 Axes>"
      ]
     },
     "metadata": {
      "needs_background": "light"
     },
     "output_type": "display_data"
    }
   ],
   "source": [
    "# Plotting the losses and accuracies \n",
    "fig, ax = plt.subplots(nrows = 1, ncols = 2, figsize = (16, 6))\n",
    "\n",
    "ax[0].plot(range(1, len(loss_hist) + 1), loss_hist, c = 'orange')\n",
    "ax[0].set_ylabel('Loss')\n",
    "ax[0].set_xlabel('Epoch * Batch')\n",
    "ax[0].set_title('Loss progress through training')\n",
    "\n",
    "ax[1].plot(range(1, len(acc_hist) + 1), acc_hist, c = 'green')\n",
    "ax[1].set_ylabel('Accuracy')\n",
    "ax[1].set_xlabel('Epoch * Batch')\n",
    "ax[1].set_title('Accuracy progress through training')\n",
    "\n",
    "plt.show()"
   ]
  },
  {
   "cell_type": "markdown",
   "metadata": {},
   "source": [
    "Now we evalute our model on the test set.\n",
    "\n",
    "First we put our model in evaluate mode using ```model.eval()``` so that any ```Drouput()``` or ```BatchNormalization()``` layers are removed. \n",
    "\n",
    "Then, we use ```torch.no_grad()``` so that we temperoraly stop autograd from tracking history on Tensors and go over all batches in test set to calculate the accuracy."
   ]
  },
  {
   "cell_type": "code",
   "execution_count": 75,
   "metadata": {},
   "outputs": [
    {
     "name": "stdout",
     "output_type": "stream",
     "text": [
      "Progress: [====================] 313/313\n",
      "\n",
      "Test accuracy: 0.1000\n"
     ]
    }
   ],
   "source": [
    "# Testing the results\n",
    "model.eval()\n",
    "num_test_batches = len(test_loader)\n",
    "with torch.no_grad():\n",
    "    correct = 0\n",
    "    total = 0\n",
    "    for i, batch in enumerate(test_loader):\n",
    "        inputs, labels = batch\n",
    "        outputs = model(inputs)\n",
    "        _, predicted = torch.max(outputs, dim = 1)\n",
    "        \n",
    "        total += labels.size(0)\n",
    "        correct += (predicted == labels).sum().item()\n",
    "        \n",
    "        # Printing progress\n",
    "        if ((i + 1) % 10 == 0) or (i == num_test_batches - 1):\n",
    "            drawProgressBar((i+1), num_test_batches)\n",
    "            \n",
    "    print(\"\\n\\nTest accuracy: {:.4f}\".format(round(correct/total, 4)))"
   ]
  },
  {
   "cell_type": "code",
   "execution_count": null,
   "metadata": {},
   "outputs": [],
   "source": []
  }
 ],
 "metadata": {
  "kernelspec": {
   "display_name": "Python 3",
   "language": "python",
   "name": "python3"
  },
  "language_info": {
   "codemirror_mode": {
    "name": "ipython",
    "version": 3
   },
   "file_extension": ".py",
   "mimetype": "text/x-python",
   "name": "python",
   "nbconvert_exporter": "python",
   "pygments_lexer": "ipython3",
   "version": "3.6.5"
  }
 },
 "nbformat": 4,
 "nbformat_minor": 4
}

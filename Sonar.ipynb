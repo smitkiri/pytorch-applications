{
 "cells": [
  {
   "cell_type": "markdown",
   "metadata": {},
   "source": [
    "## Sonar Returns Dataset\n",
    "This notebook implements a feed forward neural network using PyTorch to determine if the sonar signals are bounsed off of a metal or a rock. \n",
    "\n",
    "**About the data**: Each sonar pattern is a set of 60 numbers between 0 and 1. Each of these 60 numbers represents the energy within a frequency band, integrated over a period of time. Each of these signals are either bounced off of a metal cylinder or a roughly cylindrical rock."
   ]
  },
  {
   "cell_type": "code",
   "execution_count": 1,
   "metadata": {},
   "outputs": [],
   "source": [
    "import torch\n",
    "import torch.nn as nn\n",
    "import torch.nn.functional as F\n",
    "import torch.optim as optim\n",
    "from torch.utils.data import random_split, DataLoader\n",
    "\n",
    "import numpy as np\n",
    "import pandas as pd\n",
    "import utils\n",
    "\n",
    "import matplotlib.pyplot as plt\n",
    "%matplotlib inline"
   ]
  },
  {
   "cell_type": "markdown",
   "metadata": {},
   "source": [
    "First we will create a class that would represent the dataset and will have both the training data and labels."
   ]
  },
  {
   "cell_type": "code",
   "execution_count": 2,
   "metadata": {},
   "outputs": [],
   "source": [
    "class Dataset:\n",
    "    def __init__(self, path, header = 'infer'):\n",
    "        '''\n",
    "        Reads a csv dataset with the assumption that the last column is a categorical label column.\n",
    "        '''\n",
    "        self.df = pd.read_csv(path, header = header)\n",
    "        \n",
    "        self.data = self.df.values[:, :-1]\n",
    "        self.data = self.data.astype('float32')\n",
    "        \n",
    "        self.labels = self.df.values[:, -1]\n",
    "        \n",
    "        # If label is not a number, one-hot encode them\n",
    "        if not np.issubdtype(self.labels.dtype, np.number):\n",
    "            self.label_names = []\n",
    "            for idx, name in enumerate(set(self.labels)):\n",
    "                self.label_names.append(name)\n",
    "                self.labels[self.labels == name] = idx\n",
    "            self.labels = self.labels.astype('float32')\n",
    "            \n",
    "        self.labels = self.labels.reshape(-1, 1)\n",
    "        \n",
    "    def __len__(self):\n",
    "        return len(self.data)\n",
    "    \n",
    "    def __getitem__(self, idx):\n",
    "        return (self.data[idx], self.labels[idx])\n",
    "    \n",
    "    def __repr__(self):\n",
    "        return repr(self.df)\n",
    "    \n",
    "    def split_data(self, test_ratio = 0.3):\n",
    "        '''\n",
    "        Splits data into training and test sets.\n",
    "        '''\n",
    "        test_len = round(test_ratio * len(self.data))\n",
    "        train_len = len(self.data) - test_len\n",
    "        \n",
    "        return random_split(self, [train_len, test_len])"
   ]
  },
  {
   "cell_type": "code",
   "execution_count": 3,
   "metadata": {},
   "outputs": [],
   "source": [
    "dataset = Dataset(\"https://raw.githubusercontent.com/jbrownlee/Datasets/master/sonar.csv\", header = None)"
   ]
  },
  {
   "cell_type": "code",
   "execution_count": 4,
   "metadata": {},
   "outputs": [
    {
     "name": "stdout",
     "output_type": "stream",
     "text": [
      "         0       1       2       3       4       5       6       7       8   \\\n",
      "0    0.0200  0.0371  0.0428  0.0207  0.0954  0.0986  0.1539  0.1601  0.3109   \n",
      "1    0.0453  0.0523  0.0843  0.0689  0.1183  0.2583  0.2156  0.3481  0.3337   \n",
      "2    0.0262  0.0582  0.1099  0.1083  0.0974  0.2280  0.2431  0.3771  0.5598   \n",
      "3    0.0100  0.0171  0.0623  0.0205  0.0205  0.0368  0.1098  0.1276  0.0598   \n",
      "4    0.0762  0.0666  0.0481  0.0394  0.0590  0.0649  0.1209  0.2467  0.3564   \n",
      "..      ...     ...     ...     ...     ...     ...     ...     ...     ...   \n",
      "203  0.0187  0.0346  0.0168  0.0177  0.0393  0.1630  0.2028  0.1694  0.2328   \n",
      "204  0.0323  0.0101  0.0298  0.0564  0.0760  0.0958  0.0990  0.1018  0.1030   \n",
      "205  0.0522  0.0437  0.0180  0.0292  0.0351  0.1171  0.1257  0.1178  0.1258   \n",
      "206  0.0303  0.0353  0.0490  0.0608  0.0167  0.1354  0.1465  0.1123  0.1945   \n",
      "207  0.0260  0.0363  0.0136  0.0272  0.0214  0.0338  0.0655  0.1400  0.1843   \n",
      "\n",
      "         9   ...      51      52      53      54      55      56      57  \\\n",
      "0    0.2111  ...  0.0027  0.0065  0.0159  0.0072  0.0167  0.0180  0.0084   \n",
      "1    0.2872  ...  0.0084  0.0089  0.0048  0.0094  0.0191  0.0140  0.0049   \n",
      "2    0.6194  ...  0.0232  0.0166  0.0095  0.0180  0.0244  0.0316  0.0164   \n",
      "3    0.1264  ...  0.0121  0.0036  0.0150  0.0085  0.0073  0.0050  0.0044   \n",
      "4    0.4459  ...  0.0031  0.0054  0.0105  0.0110  0.0015  0.0072  0.0048   \n",
      "..      ...  ...     ...     ...     ...     ...     ...     ...     ...   \n",
      "203  0.2684  ...  0.0116  0.0098  0.0199  0.0033  0.0101  0.0065  0.0115   \n",
      "204  0.2154  ...  0.0061  0.0093  0.0135  0.0063  0.0063  0.0034  0.0032   \n",
      "205  0.2529  ...  0.0160  0.0029  0.0051  0.0062  0.0089  0.0140  0.0138   \n",
      "206  0.2354  ...  0.0086  0.0046  0.0126  0.0036  0.0035  0.0034  0.0079   \n",
      "207  0.2354  ...  0.0146  0.0129  0.0047  0.0039  0.0061  0.0040  0.0036   \n",
      "\n",
      "         58      59  60  \n",
      "0    0.0090  0.0032   R  \n",
      "1    0.0052  0.0044   R  \n",
      "2    0.0095  0.0078   R  \n",
      "3    0.0040  0.0117   R  \n",
      "4    0.0107  0.0094   R  \n",
      "..      ...     ...  ..  \n",
      "203  0.0193  0.0157   M  \n",
      "204  0.0062  0.0067   M  \n",
      "205  0.0077  0.0031   M  \n",
      "206  0.0036  0.0048   M  \n",
      "207  0.0061  0.0115   M  \n",
      "\n",
      "[208 rows x 61 columns]\n"
     ]
    }
   ],
   "source": [
    "print(dataset)"
   ]
  },
  {
   "cell_type": "markdown",
   "metadata": {},
   "source": [
    "We have succesfully read the dataset as a numpy array. We need to convert them into tensors and create batches of data to feed into our neural network.\n",
    "\n",
    "Since the data is already normalized to be between 0 and 1, we do not need to perform any more preprocessing steps."
   ]
  },
  {
   "cell_type": "markdown",
   "metadata": {},
   "source": [
    "## Logistic Regression"
   ]
  },
  {
   "cell_type": "markdown",
   "metadata": {},
   "source": [
    "Before training a full-fledged neural netowork, lets first try using logistic regression to see how it performs on this dataset. We can create a logistic regression uisng PyTorch by defining a single neuron with sigmoid activation.\n",
    "\n",
    "We split the data into 70% training set and 30% test set."
   ]
  },
  {
   "cell_type": "code",
   "execution_count": 5,
   "metadata": {},
   "outputs": [],
   "source": [
    "train_data, test_data = dataset.split_data(test_ratio = 0.3)\n",
    "\n",
    "# Data Loaders for Logistic Regression\n",
    "train_loader_lr = DataLoader(train_data, batch_size = 1)\n",
    "test_loader_lr = DataLoader(test_data, batch_size = 1)"
   ]
  },
  {
   "cell_type": "code",
   "execution_count": 17,
   "metadata": {},
   "outputs": [],
   "source": [
    "# Defining the number of features available in the dataset\n",
    "N_FEATURES = dataset.data.shape[1]"
   ]
  },
  {
   "cell_type": "code",
   "execution_count": 18,
   "metadata": {},
   "outputs": [],
   "source": [
    "class LogisticRegression(nn.Module):\n",
    "    def __init__(self):\n",
    "        super(LogisticRegression, self).__init__()\n",
    "        \n",
    "        # A single neuron\n",
    "        self.neuron = nn.Linear(in_features = N_FEATURES, out_features = 1)\n",
    "        \n",
    "    def forward(self, x):\n",
    "        x = self.neuron(x)\n",
    "        x = torch.sigmoid(x)    # Sigmoid activation on a single neuron, basically makes it logistic regression\n",
    "        return x"
   ]
  },
  {
   "cell_type": "markdown",
   "metadata": {},
   "source": [
    "We select L2 loss as our loss function and Stochaistic Gradient descent as optimizer.\n",
    "\n",
    "To train the model, we run a maximum of 100 epochs. If the change in loss between two epochs falls below some tolerence level, we break out of the loop. "
   ]
  },
  {
   "cell_type": "code",
   "execution_count": 19,
   "metadata": {},
   "outputs": [],
   "source": [
    "# Defining loss function and optimizer\n",
    "lr = LogisticRegression()\n",
    "\n",
    "loss_fn_lr = nn.MSELoss()\n",
    "optimizer_lr = optim.SGD(lr.parameters(), lr = 0.001, momentum = 0.9)"
   ]
  },
  {
   "cell_type": "code",
   "execution_count": 20,
   "metadata": {},
   "outputs": [],
   "source": [
    "# Training our model\n",
    "loss_hist_lr = []\n",
    "acc_hist_lr = []\n",
    "total_train_size = len(train_loader_lr)\n",
    "TOLERENCE = 0.0001\n",
    "prev_loss = 0\n",
    "\n",
    "for epoch in range(100):\n",
    "    curr_loss = 0\n",
    "    correct = 0\n",
    "    for idx, batch in enumerate(train_loader_lr):\n",
    "        input_data, label = batch\n",
    "        \n",
    "        # Forward prop\n",
    "        output = lr(input_data)\n",
    "        loss = loss_fn_lr(output, label)\n",
    "        curr_loss += loss\n",
    "        \n",
    "        # Backprop\n",
    "        optimizer_lr.zero_grad()\n",
    "        loss.backward()\n",
    "        optimizer_lr.step()\n",
    "        \n",
    "        # Accuracy measure\n",
    "        if torch.round(output) == label:\n",
    "            correct += 1\n",
    "    \n",
    "    avg_loss = curr_loss / total_train_size\n",
    "    accuracy = correct / total_train_size\n",
    "    loss_hist_lr.append(avg_loss)\n",
    "    acc_hist_lr.append(accuracy)\n",
    "    \n",
    "    if abs(avg_loss - prev_loss) < TOLERENCE:\n",
    "        break\n",
    "    else:\n",
    "        prev_loss = avg_loss"
   ]
  },
  {
   "cell_type": "code",
   "execution_count": 21,
   "metadata": {},
   "outputs": [
    {
     "name": "stdout",
     "output_type": "stream",
     "text": [
      "Train accuracy: 0.8014\n",
      "Train loss: 0.1627\n"
     ]
    }
   ],
   "source": [
    "print(\"Train accuracy: {:.4f}\".format(round(acc_hist_lr[-1], 4)))\n",
    "print(\"Train loss: {:.4f}\".format(round(loss_hist_lr[-1].item(), 4)))"
   ]
  },
  {
   "cell_type": "code",
   "execution_count": 22,
   "metadata": {},
   "outputs": [
    {
     "data": {
      "image/png": "[encoded data removed]",
      "text/plain": [
       "<Figure size 1152x432 with 2 Axes>"
      ]
     },
     "metadata": {
      "needs_background": "light"
     },
     "output_type": "display_data"
    }
   ],
   "source": [
    "# Plotting the losses and accuracies \n",
    "fig, ax = plt.subplots(nrows = 1, ncols = 2, figsize = (16, 6))\n",
    "\n",
    "ax[0].plot(range(1, len(loss_hist_lr) + 1), loss_hist_lr, c = 'orange')\n",
    "ax[0].set_ylabel('Loss')\n",
    "ax[0].set_xlabel('Epoch')\n",
    "ax[0].set_title('Loss progress through training')\n",
    "\n",
    "ax[1].plot(range(1, len(acc_hist_lr) + 1), acc_hist_lr, c = 'green')\n",
    "ax[1].set_ylabel('Accuracy')\n",
    "ax[1].set_xlabel('Epoch')\n",
    "ax[1].set_title('Accuracy progress through training')\n",
    "\n",
    "plt.show()"
   ]
  },
  {
   "cell_type": "markdown",
   "metadata": {},
   "source": [
    "Now, we use torch.no_grad() so that we temperoraly stop autograd from tracking history on Tensors and go over all examples in test set to calculate the accuracy."
   ]
  },
  {
   "cell_type": "code",
   "execution_count": 23,
   "metadata": {},
   "outputs": [
    {
     "name": "stdout",
     "output_type": "stream",
     "text": [
      "Test accuracy: 0.8226\n",
      "Test loss: 0.1579\n"
     ]
    }
   ],
   "source": [
    "# Testing the results\n",
    "lr.eval()\n",
    "with torch.no_grad():\n",
    "    correct = 0\n",
    "    total = len(test_loader_lr)\n",
    "    total_loss = 0\n",
    "    for idx, batch in enumerate(test_loader_lr):\n",
    "        input_data, label = batch\n",
    "        output = lr(input_data)\n",
    "        if torch.round(output) == label:\n",
    "            correct += 1\n",
    "\n",
    "        loss = loss_fn_lr(output, label)\n",
    "        total_loss += loss.item()\n",
    "                    \n",
    "    print(\"Test accuracy: {:.4f}\".format(round(correct/total, 4)))\n",
    "    print(\"Test loss: {:.4f}\".format(round(total_loss/total, 4)))"
   ]
  },
  {
   "cell_type": "markdown",
   "metadata": {},
   "source": [
    "## Feed Forward Neural Network"
   ]
  },
  {
   "cell_type": "markdown",
   "metadata": {},
   "source": [
    "We got a pretty good accuracy using logistic regression. Now, lets see if we can improve it by using a feed-forward neural network."
   ]
  },
  {
   "cell_type": "code",
   "execution_count": 24,
   "metadata": {},
   "outputs": [],
   "source": [
    "# Defining training Parameters\n",
    "BATCH_SIZE = 4\n",
    "EPOCHS = 10\n",
    "LEARNING_RATE = 0.005"
   ]
  },
  {
   "cell_type": "code",
   "execution_count": 25,
   "metadata": {},
   "outputs": [],
   "source": [
    "# Data Loaders for neural network\n",
    "train_loader = DataLoader(train_data, batch_size = BATCH_SIZE)\n",
    "test_loader = DataLoader(test_data, batch_size = BATCH_SIZE)"
   ]
  },
  {
   "cell_type": "markdown",
   "metadata": {},
   "source": [
    "Now that we have our data ready, let's create a neural network. This is a very simple architecture where there are only 2 hidden layers with 64 and 16 neurons respectively. Each layer has ReLU activation and the output layer has just one neuron with sigmoid activation to give binary classification."
   ]
  },
  {
   "cell_type": "code",
   "execution_count": 31,
   "metadata": {},
   "outputs": [],
   "source": [
    "# Creating a feed forward neural network \n",
    "class Net(nn.Module):\n",
    "    def __init__(self):\n",
    "        super(Net, self).__init__()\n",
    "        \n",
    "        # Hidden Layer 1\n",
    "        self.layer1 = nn.Sequential(\n",
    "            nn.Linear(in_features = N_FEATURES, out_features = 64), \n",
    "            nn.ReLU())\n",
    "        \n",
    "        # Hidden Layer 2\n",
    "        self.layer2 = nn.Sequential(\n",
    "            nn.Linear(in_features = 64, out_features = 16), \n",
    "            nn.ReLU())\n",
    "        \n",
    "        # Output Layer\n",
    "        self.layer3 = nn.Sequential(\n",
    "            nn.Linear(in_features = 16, out_features = 1), \n",
    "            nn.Sigmoid())\n",
    "        \n",
    "    def forward(self, x):\n",
    "        x = self.layer1(x)\n",
    "        x = self.layer2(x)\n",
    "        x = self.layer3(x)\n",
    "        return x"
   ]
  },
  {
   "cell_type": "markdown",
   "metadata": {},
   "source": [
    "Now that we have our network architecture ready, we need to choose our loss function and optimizer. Once we do that, we just need to train our model."
   ]
  },
  {
   "cell_type": "code",
   "execution_count": 32,
   "metadata": {},
   "outputs": [],
   "source": [
    "# Selecting loss function and optimizer\n",
    "model = Net()\n",
    "\n",
    "loss_fn = torch.nn.BCELoss()\n",
    "optimizer = optim.Adam(model.parameters(), lr = LEARNING_RATE)"
   ]
  },
  {
   "cell_type": "code",
   "execution_count": 33,
   "metadata": {},
   "outputs": [
    {
     "name": "stdout",
     "output_type": "stream",
     "text": [
      "Epoch 1: \n",
      "Progress: [====================] 37/37\t loss : 0.6933 \t acc: 0.5000\n",
      "\n",
      "\n",
      "Epoch 2: \n",
      "Progress: [====================] 37/37\t loss : 0.6650 \t acc: 0.5000\n",
      "\n",
      "\n",
      "Epoch 3: \n",
      "Progress: [====================] 37/37\t loss : 0.5315 \t acc: 0.5000\n",
      "\n",
      "\n",
      "Epoch 4: \n",
      "Progress: [====================] 37/37\t loss : 0.3918 \t acc: 1.0000\n",
      "\n",
      "\n",
      "Epoch 5: \n",
      "Progress: [====================] 37/37\t loss : 0.2927 \t acc: 1.0000\n",
      "\n",
      "\n",
      "Epoch 6: \n",
      "Progress: [====================] 37/37\t loss : 0.2867 \t acc: 1.0000\n",
      "\n",
      "\n",
      "Epoch 7: \n",
      "Progress: [====================] 37/37\t loss : 0.2362 \t acc: 1.0000\n",
      "\n",
      "\n",
      "Epoch 8: \n",
      "Progress: [====================] 37/37\t loss : 0.2152 \t acc: 1.0000\n",
      "\n",
      "\n",
      "Epoch 9: \n",
      "Progress: [====================] 37/37\t loss : 0.2104 \t acc: 1.0000\n",
      "\n",
      "\n",
      "Epoch 10: \n",
      "Progress: [====================] 37/37\t loss : 0.1896 \t acc: 1.0000\n",
      "\n",
      "\n"
     ]
    }
   ],
   "source": [
    "# Training the model\n",
    "num_train_batches = len(train_loader)\n",
    "loss_hist = []\n",
    "acc_hist = []\n",
    "\n",
    "for epoch in range(1, EPOCHS + 1):\n",
    "    print(\"Epoch \" + str(epoch) + \": \")\n",
    "    for idx, batch in enumerate(train_loader):\n",
    "        # batch is a tuple of data and labels\n",
    "        inputs, labels = batch\n",
    "        \n",
    "        # Running forward pass\n",
    "        outputs = model(inputs)\n",
    "        loss = loss_fn(outputs, labels)\n",
    "        \n",
    "        # Running backprop\n",
    "        optimizer.zero_grad()\n",
    "        loss.backward()\n",
    "        optimizer.step()\n",
    "        \n",
    "        # Measuring accuracy\n",
    "        total = labels.size(0)\n",
    "        predicted = torch.round(outputs)\n",
    "        correct = (predicted == labels).sum().item()\n",
    "        accuracy = correct / total\n",
    "        \n",
    "        # Printing progress\n",
    "        if (idx % 10 == 9) or (idx == num_train_batches - 1):\n",
    "            utils.drawProgressBar((idx + 1), num_train_batches, \n",
    "                                  '\\t loss : {:.4f} \\t acc: {:.4f}'.format(round(loss.item(), 4), round(accuracy, 4)))\n",
    "    print('\\n\\n')\n",
    "    acc_hist.append(accuracy)\n",
    "    loss_hist.append(loss.item())"
   ]
  },
  {
   "cell_type": "code",
   "execution_count": 34,
   "metadata": {},
   "outputs": [
    {
     "data": {
      "image/png": "[encoded data removed]",
      "text/plain": [
       "<Figure size 1152x432 with 2 Axes>"
      ]
     },
     "metadata": {
      "needs_background": "light"
     },
     "output_type": "display_data"
    }
   ],
   "source": [
    "# Plotting the losses and accuracies \n",
    "fig, ax = plt.subplots(nrows = 1, ncols = 2, figsize = (16, 6))\n",
    "\n",
    "ax[0].plot(range(1, len(loss_hist) + 1), loss_hist, c = 'orange')\n",
    "ax[0].set_ylabel('Loss')\n",
    "ax[0].set_xlabel('Epoch')\n",
    "ax[0].set_title('Loss progress through training')\n",
    "\n",
    "ax[1].plot(range(1, len(acc_hist) + 1), acc_hist, c = 'green')\n",
    "ax[1].set_ylabel('Accuracy')\n",
    "ax[1].set_xlabel('Epoch')\n",
    "ax[1].set_title('Accuracy progress through training')\n",
    "\n",
    "plt.show()"
   ]
  },
  {
   "cell_type": "markdown",
   "metadata": {},
   "source": [
    "Now we evalute our model on the test set.\n",
    "\n",
    "First we put our model in evaluate mode using model.eval() so that any Drouput() or BatchNormalization() layers are removed.\n",
    "\n",
    "Then, we use torch.no_grad() so that we temperoraly stop autograd from tracking history on Tensors and go over all batches in test set to calculate the accuracy."
   ]
  },
  {
   "cell_type": "code",
   "execution_count": 35,
   "metadata": {},
   "outputs": [
    {
     "name": "stdout",
     "output_type": "stream",
     "text": [
      "Progress: [====================] 16/16\n",
      "\n",
      "Test accuracy: 0.8226\n",
      "Test loss: 0.4643\n"
     ]
    }
   ],
   "source": [
    "# Testing the results\n",
    "model.eval()\n",
    "num_test_batches = len(test_loader)\n",
    "with torch.no_grad():\n",
    "    correct = 0\n",
    "    total = 0\n",
    "    total_loss = 0\n",
    "    for idx, batch in enumerate(test_loader):\n",
    "        inputs, labels = batch\n",
    "        outputs = model(inputs)\n",
    "        predicted = torch.round(outputs)\n",
    "        loss = loss_fn(outputs, labels)\n",
    "        total_loss += loss.item()\n",
    "        \n",
    "        total += labels.size(0)\n",
    "        correct += (predicted == labels).sum().item()\n",
    "        \n",
    "        # Printing progress\n",
    "        if (idx  % 10 == 9) or (idx == num_test_batches - 1):\n",
    "            utils.drawProgressBar((idx+1), num_test_batches)\n",
    "            \n",
    "    print(\"\\n\\nTest accuracy: {:.4f}\".format(round(correct/total, 4)))\n",
    "    print(\"Test loss: {:.4f}\".format(round(total_loss/num_test_batches, 4)))"
   ]
  },
  {
   "cell_type": "code",
   "execution_count": null,
   "metadata": {},
   "outputs": [],
   "source": []
  }
 ],
 "metadata": {
  "kernelspec": {
   "display_name": "Python 3",
   "language": "python",
   "name": "python3"
  },
  "language_info": {
   "codemirror_mode": {
    "name": "ipython",
    "version": 3
   },
   "file_extension": ".py",
   "mimetype": "text/x-python",
   "name": "python",
   "nbconvert_exporter": "python",
   "pygments_lexer": "ipython3",
   "version": "3.6.5"
  }
 },
 "nbformat": 4,
 "nbformat_minor": 4
}
